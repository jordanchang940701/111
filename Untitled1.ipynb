{
  "nbformat": 4,
  "nbformat_minor": 0,
  "metadata": {
    "colab": {
      "provenance": []
    },
    "kernelspec": {
      "name": "python3",
      "display_name": "Python 3"
    },
    "language_info": {
      "name": "python"
    }
  },
  "cells": [
    {
      "cell_type": "code",
      "execution_count": null,
      "metadata": {
        "id": "agc9fFHdBb1O"
      },
      "outputs": [],
      "source": [
        "a=int(input(\"enter a:\"))\n",
        "for i in range(1,a):\n",
        "    for j in range(1,a):\n",
        "        product=i*j\n",
        "        print(f\"{i}*{j}={product}\")\n",
        "\n"
      ]
    },
    {
      "cell_type": "code",
      "source": [
        "import random\n",
        "target_number = random.randint(1, 100)\n",
        "\n",
        "\n",
        "print(\"歡迎參加猜數字遊戲！\")\n",
        "\n",
        "while True:\n",
        " a=int(input(\"enter a:\"))\n",
        " if a==target_number:\n",
        "   print(\"遊戲結束。\")\n",
        "   break\n",
        " elif a>target_number:\n",
        "    print(\"太高\")\n",
        " else:\n",
        "    print(\"太低\")\n",
        "\n",
        "\n"
      ],
      "metadata": {
        "colab": {
          "base_uri": "https://localhost:8080/"
        },
        "id": "C_AHKrYnH4gu",
        "outputId": "c58deaa0-8bc1-4dea-976b-bc55e616d584"
      },
      "execution_count": 34,
      "outputs": [
        {
          "output_type": "stream",
          "name": "stdout",
          "text": [
            "歡迎參加猜數字遊戲！\n",
            "enter a:13\n",
            "太低\n",
            "enter a:15\n",
            "太低\n",
            "enter a:80\n",
            "太低\n",
            "enter a:90\n",
            "太低\n",
            "enter a:99\n",
            "太高\n",
            "enter a:95\n",
            "太高\n",
            "enter a:92\n",
            "遊戲結束。\n"
          ]
        }
      ]
    }
  ]
}